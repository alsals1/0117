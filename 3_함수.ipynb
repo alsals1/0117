{
 "cells": [
  {
   "cell_type": "markdown",
   "metadata": {},
   "source": [
    "\n"
   ]
  },
  {
   "cell_type": "markdown",
   "metadata": {},
   "source": []
  },
  {
   "cell_type": "code",
   "execution_count": 5,
   "metadata": {},
   "outputs": [
    {
     "ename": "SyntaxError",
     "evalue": "unmatched ')' (1263565159.py, line 16)",
     "output_type": "error",
     "traceback": [
      "\u001b[1;36m  Cell \u001b[1;32mIn[5], line 16\u001b[1;36m\u001b[0m\n\u001b[1;33m    print(sorted(rects, key =lambda rect:rect[0]*rect[1]))) # 넓이에 따라 정렬\u001b[0m\n\u001b[1;37m                                                          ^\u001b[0m\n\u001b[1;31mSyntaxError\u001b[0m\u001b[1;31m:\u001b[0m unmatched ')'\n"
     ]
    }
   ],
   "source": [
    "# 람다 \n",
    "# 정렬 예시\n",
    "\n",
    "\n",
    "radius = [1,2,6,3,8]\n",
    "# 반지름 크기로 오름 차순 정렬\n",
    "\n",
    "print(sorted(radius)) # 오름차순\n",
    "print(sorted(radius, reverse=True)) # 내림차순\n",
    "print(sorted(radius, key=lambda r : r**2*3.14)) # 원의 넓이\n",
    "\n",
    "# 사각형 예제\n",
    "rects = [(1,2), (3,3), (1,1)] # (가로,세로)\n",
    "print(sorted(rects)) # 가로길이의 오름차순\n",
    "print(sorted(rects, key =lambda rect:rect[1])) # 세로 길이의 오름차순\n",
    "print(sorted(rects, key =lambda rect:rect[0]*rect[1]))) # 넓이에 따라 정렬\n",
    "\n",
    "\n",
    "# 정렬 함수 sorted(), sort() 둘 다 사용법은 같음\n",
    "# sorted(순환 가능 자료형) # 정렬된 데이터 반환\n",
    "# 순환 가능 자료형.sort() # 원본 데이터를 정렬\n",
    "\n",
    "rects.sort()\n",
    "\n",
    "# 원하는 데이터만 가져오고 싶은 경우\n",
    "# fliter(람다, 순환가능한 자료형)\n",
    "rects = [(1,2), (3,3), (1,1), (1,3)] # (가로, 세로 길이)\n",
    "# 넓이가 1 초과인 사각형만 얻는다\n",
    "print(list(filter(lambda x:x[0]*x[1]>1, rects)))\n",
    "\n"
   ]
  },
  {
   "cell_type": "code",
   "execution_count": 22,
   "metadata": {},
   "outputs": [
    {
     "name": "stdout",
     "output_type": "stream",
     "text": [
      "[3.141592, 12.566368, 28.274328, 28.274328, 19.63495, 254.468952]\n",
      "[12.566368, 28.274328, 28.274328, 19.63495, 254.468952]\n"
     ]
    }
   ],
   "source": [
    "# Quiz\n",
    "\n",
    "# 원의 넓이가 10이상인 데이터만 출력하세요.\n",
    "# map, fliter 모두 사용\n",
    "# lambda r : r**2*3.14\n",
    "\n",
    "radius = [1,2,3,3,2.5,9]\n",
    "\n",
    "def calculate_area(radius):\n",
    "    return 3.141592 * radius**2\n",
    "\n",
    "print(list(map(calculate_area, radius)))\n",
    "\n",
    "areas = list(map(calculate_area, radius))\n",
    "\n",
    "filtered_area = list(filter(lambda r:r >=10, areas))\n",
    "\n",
    "print(filtered_area)\n"
   ]
  },
  {
   "cell_type": "code",
   "execution_count": 23,
   "metadata": {},
   "outputs": [
    {
     "name": "stdout",
     "output_type": "stream",
     "text": [
      "[12.56, 28.26, 28.26, 19.625, 254.34]\n"
     ]
    }
   ],
   "source": [
    "radius = [1,2,3,3,2.5,9]\n",
    "\n",
    "area = map(lambda x:x**2*3.14, radius)\n",
    "filter_area = list(filter(lambda a:a >=10, area))\n",
    "print(filter_area)"
   ]
  }
 ],
 "metadata": {
  "kernelspec": {
   "display_name": "Python 3",
   "language": "python",
   "name": "python3"
  },
  "language_info": {
   "codemirror_mode": {
    "name": "ipython",
    "version": 3
   },
   "file_extension": ".py",
   "mimetype": "text/x-python",
   "name": "python",
   "nbconvert_exporter": "python",
   "pygments_lexer": "ipython3",
   "version": "3.9.13"
  }
 },
 "nbformat": 4,
 "nbformat_minor": 2
}
